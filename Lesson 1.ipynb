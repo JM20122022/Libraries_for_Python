{
 "cells": [
  {
   "cell_type": "code",
   "execution_count": 2,
   "id": "c5a7c5ba",
   "metadata": {},
   "outputs": [
    {
     "name": "stdout",
     "output_type": "stream",
     "text": [
      "Collecting package metadata (current_repodata.json): ...working... done\n",
      "Solving environment: ...working... done\n",
      "\n",
      "## Package Plan ##\n",
      "\n",
      "  environment location: D:\\03_11\\DATA\\Miniconda\n",
      "\n",
      "  added / updated specs:\n",
      "    - numpy\n",
      "\n",
      "\n",
      "The following packages will be downloaded:\n",
      "\n",
      "    package                    |            build\n",
      "    ---------------------------|-----------------\n",
      "    blas-1.0                   |              mkl           6 KB\n",
      "    ca-certificates-2022.07.19 |       haa95532_0         123 KB\n",
      "    certifi-2022.9.24          |   py39haa95532_0         154 KB\n",
      "    conda-22.9.0               |   py39haa95532_0         888 KB\n",
      "    intel-openmp-2021.4.0      |    haa95532_3556         2.2 MB\n",
      "    mkl-2021.4.0               |     haa95532_640       114.9 MB\n",
      "    mkl-service-2.4.0          |   py39h2bbff1b_0          51 KB\n",
      "    mkl_fft-1.3.1              |   py39h277e83a_0         139 KB\n",
      "    mkl_random-1.2.2           |   py39hf11a4ad_0         225 KB\n",
      "    numpy-1.23.3               |   py39h3b20f71_0          11 KB\n",
      "    numpy-base-1.23.3          |   py39h4da318b_0         5.0 MB\n",
      "    openssl-1.1.1q             |       h2bbff1b_0         4.8 MB\n",
      "    toolz-0.11.2               |     pyhd3eb1b0_0          49 KB\n",
      "    ------------------------------------------------------------\n",
      "                                           Total:       128.5 MB\n",
      "\n",
      "The following NEW packages will be INSTALLED:\n",
      "\n",
      "  blas               pkgs/main/win-64::blas-1.0-mkl\n",
      "  intel-openmp       pkgs/main/win-64::intel-openmp-2021.4.0-haa95532_3556\n",
      "  mkl                pkgs/main/win-64::mkl-2021.4.0-haa95532_640\n",
      "  mkl-service        pkgs/main/win-64::mkl-service-2.4.0-py39h2bbff1b_0\n",
      "  mkl_fft            pkgs/main/win-64::mkl_fft-1.3.1-py39h277e83a_0\n",
      "  mkl_random         pkgs/main/win-64::mkl_random-1.2.2-py39hf11a4ad_0\n",
      "  numpy              pkgs/main/win-64::numpy-1.23.3-py39h3b20f71_0\n",
      "  numpy-base         pkgs/main/win-64::numpy-base-1.23.3-py39h4da318b_0\n",
      "  toolz              pkgs/main/noarch::toolz-0.11.2-pyhd3eb1b0_0\n",
      "\n",
      "The following packages will be UPDATED:\n",
      "\n",
      "  ca-certificates                      2021.9.30-haa95532_1 --> 2022.07.19-haa95532_0\n",
      "  certifi                          2021.10.8-py39haa95532_0 --> 2022.9.24-py39haa95532_0\n",
      "  conda                               4.10.3-py39haa95532_0 --> 22.9.0-py39haa95532_0\n",
      "  openssl                                 1.1.1l-h2bbff1b_0 --> 1.1.1q-h2bbff1b_0\n",
      "\n",
      "\n",
      "\n",
      "Downloading and Extracting Packages\n",
      "\n",
      "mkl_random-1.2.2     | 225 KB    |            |   0% \n",
      "mkl_random-1.2.2     | 225 KB    | 7          |   7% \n",
      "mkl_random-1.2.2     | 225 KB    | ########## | 100% \n",
      "mkl_random-1.2.2     | 225 KB    | ########## | 100% \n",
      "\n",
      "mkl-2021.4.0         | 114.9 MB  |            |   0% \n",
      "mkl-2021.4.0         | 114.9 MB  |            |   0% \n",
      "mkl-2021.4.0         | 114.9 MB  |            |   1% \n",
      "mkl-2021.4.0         | 114.9 MB  | 1          |   1% \n",
      "mkl-2021.4.0         | 114.9 MB  | 1          |   2% \n",
      "mkl-2021.4.0         | 114.9 MB  | 2          |   2% \n",
      "mkl-2021.4.0         | 114.9 MB  | 2          |   2% \n",
      "mkl-2021.4.0         | 114.9 MB  | 2          |   3% \n",
      "mkl-2021.4.0         | 114.9 MB  | 3          |   3% \n",
      "mkl-2021.4.0         | 114.9 MB  | 3          |   4% \n",
      "mkl-2021.4.0         | 114.9 MB  | 4          |   4% \n",
      "mkl-2021.4.0         | 114.9 MB  | 4          |   5% \n",
      "mkl-2021.4.0         | 114.9 MB  | 5          |   5% \n",
      "mkl-2021.4.0         | 114.9 MB  | 5          |   6% \n",
      "mkl-2021.4.0         | 114.9 MB  | 5          |   6% \n",
      "mkl-2021.4.0         | 114.9 MB  | 6          |   6% \n",
      "mkl-2021.4.0         | 114.9 MB  | 6          |   7% \n",
      "mkl-2021.4.0         | 114.9 MB  | 7          |   7% \n",
      "mkl-2021.4.0         | 114.9 MB  | 7          |   8% \n",
      "mkl-2021.4.0         | 114.9 MB  | 8          |   8% \n",
      "mkl-2021.4.0         | 114.9 MB  | 8          |   9% \n",
      "mkl-2021.4.0         | 114.9 MB  | 9          |   9% \n",
      "mkl-2021.4.0         | 114.9 MB  | 9          |  10% \n",
      "mkl-2021.4.0         | 114.9 MB  | #          |  10% \n",
      "mkl-2021.4.0         | 114.9 MB  | #          |  11% \n",
      "mkl-2021.4.0         | 114.9 MB  | #1         |  11% \n",
      "mkl-2021.4.0         | 114.9 MB  | #1         |  12% \n",
      "mkl-2021.4.0         | 114.9 MB  | #2         |  12% \n",
      "mkl-2021.4.0         | 114.9 MB  | #2         |  13% \n",
      "mkl-2021.4.0         | 114.9 MB  | #3         |  13% \n",
      "mkl-2021.4.0         | 114.9 MB  | #3         |  14% \n",
      "mkl-2021.4.0         | 114.9 MB  | #3         |  14% \n",
      "mkl-2021.4.0         | 114.9 MB  | #4         |  14% \n",
      "mkl-2021.4.0         | 114.9 MB  | #4         |  15% \n",
      "mkl-2021.4.0         | 114.9 MB  | #5         |  15% \n",
      "mkl-2021.4.0         | 114.9 MB  | #5         |  16% \n",
      "mkl-2021.4.0         | 114.9 MB  | #6         |  16% \n",
      "mkl-2021.4.0         | 114.9 MB  | #6         |  17% \n",
      "mkl-2021.4.0         | 114.9 MB  | #7         |  17% \n",
      "mkl-2021.4.0         | 114.9 MB  | #7         |  18% \n",
      "mkl-2021.4.0         | 114.9 MB  | #8         |  18% \n",
      "mkl-2021.4.0         | 114.9 MB  | #8         |  19% \n",
      "mkl-2021.4.0         | 114.9 MB  | #9         |  19% \n",
      "mkl-2021.4.0         | 114.9 MB  | #9         |  20% \n",
      "mkl-2021.4.0         | 114.9 MB  | ##         |  20% \n",
      "mkl-2021.4.0         | 114.9 MB  | ##         |  21% \n",
      "mkl-2021.4.0         | 114.9 MB  | ##1        |  21% \n",
      "mkl-2021.4.0         | 114.9 MB  | ##1        |  22% \n",
      "mkl-2021.4.0         | 114.9 MB  | ##2        |  22% \n",
      "mkl-2021.4.0         | 114.9 MB  | ##2        |  23% \n",
      "mkl-2021.4.0         | 114.9 MB  | ##3        |  23% \n",
      "mkl-2021.4.0         | 114.9 MB  | ##3        |  24% \n",
      "mkl-2021.4.0         | 114.9 MB  | ##4        |  24% \n",
      "mkl-2021.4.0         | 114.9 MB  | ##4        |  25% \n",
      "mkl-2021.4.0         | 114.9 MB  | ##5        |  25% \n",
      "mkl-2021.4.0         | 114.9 MB  | ##5        |  26% \n",
      "mkl-2021.4.0         | 114.9 MB  | ##6        |  26% \n",
      "mkl-2021.4.0         | 114.9 MB  | ##6        |  26% \n",
      "mkl-2021.4.0         | 114.9 MB  | ##7        |  27% \n",
      "mkl-2021.4.0         | 114.9 MB  | ##7        |  28% \n",
      "mkl-2021.4.0         | 114.9 MB  | ##8        |  28% \n",
      "mkl-2021.4.0         | 114.9 MB  | ##8        |  29% \n",
      "mkl-2021.4.0         | 114.9 MB  | ##9        |  29% \n",
      "mkl-2021.4.0         | 114.9 MB  | ##9        |  29% \n",
      "mkl-2021.4.0         | 114.9 MB  | ###        |  30% \n",
      "mkl-2021.4.0         | 114.9 MB  | ###        |  31% \n",
      "mkl-2021.4.0         | 114.9 MB  | ###1       |  31% \n",
      "mkl-2021.4.0         | 114.9 MB  | ###1       |  32% \n",
      "mkl-2021.4.0         | 114.9 MB  | ###2       |  32% \n",
      "mkl-2021.4.0         | 114.9 MB  | ###2       |  33% \n",
      "mkl-2021.4.0         | 114.9 MB  | ###3       |  33% \n",
      "mkl-2021.4.0         | 114.9 MB  | ###3       |  34% \n",
      "mkl-2021.4.0         | 114.9 MB  | ###4       |  34% \n",
      "mkl-2021.4.0         | 114.9 MB  | ###4       |  35% \n",
      "mkl-2021.4.0         | 114.9 MB  | ###5       |  35% \n",
      "mkl-2021.4.0         | 114.9 MB  | ###5       |  36% \n",
      "mkl-2021.4.0         | 114.9 MB  | ###6       |  36% \n",
      "mkl-2021.4.0         | 114.9 MB  | ###6       |  37% \n",
      "mkl-2021.4.0         | 114.9 MB  | ###7       |  37% \n",
      "mkl-2021.4.0         | 114.9 MB  | ###7       |  38% \n",
      "mkl-2021.4.0         | 114.9 MB  | ###8       |  38% \n",
      "mkl-2021.4.0         | 114.9 MB  | ###8       |  39% \n",
      "mkl-2021.4.0         | 114.9 MB  | ###9       |  39% \n",
      "mkl-2021.4.0         | 114.9 MB  | ###9       |  40% \n",
      "mkl-2021.4.0         | 114.9 MB  | ####       |  40% \n",
      "mkl-2021.4.0         | 114.9 MB  | ####       |  41% \n",
      "mkl-2021.4.0         | 114.9 MB  | ####1      |  41% \n",
      "mkl-2021.4.0         | 114.9 MB  | ####1      |  42% \n",
      "mkl-2021.4.0         | 114.9 MB  | ####2      |  42% \n",
      "mkl-2021.4.0         | 114.9 MB  | ####2      |  43% \n",
      "mkl-2021.4.0         | 114.9 MB  | ####3      |  43% \n",
      "mkl-2021.4.0         | 114.9 MB  | ####3      |  44% \n",
      "mkl-2021.4.0         | 114.9 MB  | ####3      |  44% \n",
      "mkl-2021.4.0         | 114.9 MB  | ####4      |  44% \n",
      "mkl-2021.4.0         | 114.9 MB  | ####4      |  45% \n",
      "mkl-2021.4.0         | 114.9 MB  | ####5      |  45% \n",
      "mkl-2021.4.0         | 114.9 MB  | ####5      |  46% \n",
      "mkl-2021.4.0         | 114.9 MB  | ####6      |  46% \n",
      "mkl-2021.4.0         | 114.9 MB  | ####6      |  47% \n",
      "mkl-2021.4.0         | 114.9 MB  | ####7      |  47% \n",
      "mkl-2021.4.0         | 114.9 MB  | ####7      |  48% \n",
      "mkl-2021.4.0         | 114.9 MB  | ####8      |  48% \n",
      "mkl-2021.4.0         | 114.9 MB  | ####8      |  49% \n",
      "mkl-2021.4.0         | 114.9 MB  | ####9      |  49% \n",
      "mkl-2021.4.0         | 114.9 MB  | ####9      |  50% \n",
      "mkl-2021.4.0         | 114.9 MB  | #####      |  50% \n",
      "mkl-2021.4.0         | 114.9 MB  | #####      |  51% \n",
      "mkl-2021.4.0         | 114.9 MB  | #####1     |  51% \n",
      "mkl-2021.4.0         | 114.9 MB  | #####1     |  52% \n",
      "mkl-2021.4.0         | 114.9 MB  | #####2     |  52% \n",
      "mkl-2021.4.0         | 114.9 MB  | #####2     |  53% \n",
      "mkl-2021.4.0         | 114.9 MB  | #####3     |  53% \n",
      "mkl-2021.4.0         | 114.9 MB  | #####3     |  54% \n",
      "mkl-2021.4.0         | 114.9 MB  | #####4     |  54% \n",
      "mkl-2021.4.0         | 114.9 MB  | #####4     |  55% \n",
      "mkl-2021.4.0         | 114.9 MB  | #####5     |  55% \n",
      "mkl-2021.4.0         | 114.9 MB  | #####5     |  56% \n",
      "mkl-2021.4.0         | 114.9 MB  | #####6     |  56% \n",
      "mkl-2021.4.0         | 114.9 MB  | #####6     |  57% \n",
      "mkl-2021.4.0         | 114.9 MB  | #####7     |  57% \n",
      "mkl-2021.4.0         | 114.9 MB  | #####7     |  58% \n",
      "mkl-2021.4.0         | 114.9 MB  | #####8     |  58% \n",
      "mkl-2021.4.0         | 114.9 MB  | #####8     |  59% \n",
      "mkl-2021.4.0         | 114.9 MB  | #####9     |  59% \n",
      "mkl-2021.4.0         | 114.9 MB  | #####9     |  60% \n",
      "mkl-2021.4.0         | 114.9 MB  | ######     |  60% \n",
      "mkl-2021.4.0         | 114.9 MB  | ######     |  61% \n",
      "mkl-2021.4.0         | 114.9 MB  | ######1    |  61% \n",
      "mkl-2021.4.0         | 114.9 MB  | ######1    |  62% \n",
      "mkl-2021.4.0         | 114.9 MB  | ######2    |  62% \n",
      "mkl-2021.4.0         | 114.9 MB  | ######2    |  63% \n",
      "mkl-2021.4.0         | 114.9 MB  | ######3    |  63% \n",
      "mkl-2021.4.0         | 114.9 MB  | ######3    |  64% \n",
      "mkl-2021.4.0         | 114.9 MB  | ######4    |  64% \n",
      "mkl-2021.4.0         | 114.9 MB  | ######4    |  65% \n",
      "mkl-2021.4.0         | 114.9 MB  | ######5    |  65% \n",
      "mkl-2021.4.0         | 114.9 MB  | ######5    |  66% \n",
      "mkl-2021.4.0         | 114.9 MB  | ######6    |  66% \n",
      "mkl-2021.4.0         | 114.9 MB  | ######6    |  67% \n",
      "mkl-2021.4.0         | 114.9 MB  | ######7    |  67% \n",
      "mkl-2021.4.0         | 114.9 MB  | ######7    |  68% \n",
      "mkl-2021.4.0         | 114.9 MB  | ######8    |  68% \n",
      "mkl-2021.4.0         | 114.9 MB  | ######8    |  69% \n",
      "mkl-2021.4.0         | 114.9 MB  | ######9    |  69% \n",
      "mkl-2021.4.0         | 114.9 MB  | ######9    |  70% \n",
      "mkl-2021.4.0         | 114.9 MB  | #######    |  70% \n",
      "mkl-2021.4.0         | 114.9 MB  | #######    |  71% \n",
      "mkl-2021.4.0         | 114.9 MB  | #######1   |  71% \n",
      "mkl-2021.4.0         | 114.9 MB  | #######1   |  72% \n",
      "mkl-2021.4.0         | 114.9 MB  | #######2   |  72% \n",
      "mkl-2021.4.0         | 114.9 MB  | #######2   |  73% \n",
      "mkl-2021.4.0         | 114.9 MB  | #######3   |  73% \n",
      "mkl-2021.4.0         | 114.9 MB  | #######3   |  73% \n",
      "mkl-2021.4.0         | 114.9 MB  | #######3   |  74% \n",
      "mkl-2021.4.0         | 114.9 MB  | #######4   |  74% \n",
      "mkl-2021.4.0         | 114.9 MB  | #######4   |  75% \n",
      "mkl-2021.4.0         | 114.9 MB  | #######5   |  75% \n",
      "mkl-2021.4.0         | 114.9 MB  | #######5   |  76% \n",
      "mkl-2021.4.0         | 114.9 MB  | #######6   |  76% \n",
      "mkl-2021.4.0         | 114.9 MB  | #######6   |  77% \n",
      "mkl-2021.4.0         | 114.9 MB  | #######7   |  77% \n",
      "mkl-2021.4.0         | 114.9 MB  | #######7   |  78% \n",
      "mkl-2021.4.0         | 114.9 MB  | #######8   |  78% \n",
      "mkl-2021.4.0         | 114.9 MB  | #######8   |  79% \n",
      "mkl-2021.4.0         | 114.9 MB  | #######9   |  79% \n",
      "mkl-2021.4.0         | 114.9 MB  | #######9   |  80% \n",
      "mkl-2021.4.0         | 114.9 MB  | ########   |  80% \n",
      "mkl-2021.4.0         | 114.9 MB  | ########   |  81% \n",
      "mkl-2021.4.0         | 114.9 MB  | ########1  |  81% \n",
      "mkl-2021.4.0         | 114.9 MB  | ########1  |  82% \n",
      "mkl-2021.4.0         | 114.9 MB  | ########2  |  82% \n",
      "mkl-2021.4.0         | 114.9 MB  | ########2  |  83% \n",
      "mkl-2021.4.0         | 114.9 MB  | ########3  |  83% \n",
      "mkl-2021.4.0         | 114.9 MB  | ########3  |  84% \n",
      "mkl-2021.4.0         | 114.9 MB  | ########4  |  84% \n",
      "mkl-2021.4.0         | 114.9 MB  | ########4  |  85% \n",
      "mkl-2021.4.0         | 114.9 MB  | ########5  |  85% \n",
      "mkl-2021.4.0         | 114.9 MB  | ########5  |  86% \n",
      "mkl-2021.4.0         | 114.9 MB  | ########6  |  86% \n",
      "mkl-2021.4.0         | 114.9 MB  | ########6  |  87% \n",
      "mkl-2021.4.0         | 114.9 MB  | ########7  |  87% \n",
      "mkl-2021.4.0         | 114.9 MB  | ########7  |  88% \n",
      "mkl-2021.4.0         | 114.9 MB  | ########8  |  88% \n",
      "mkl-2021.4.0         | 114.9 MB  | ########8  |  89% \n",
      "mkl-2021.4.0         | 114.9 MB  | ########9  |  89% \n",
      "mkl-2021.4.0         | 114.9 MB  | ########9  |  90% \n",
      "mkl-2021.4.0         | 114.9 MB  | #########  |  90% \n",
      "mkl-2021.4.0         | 114.9 MB  | #########  |  91% \n",
      "mkl-2021.4.0         | 114.9 MB  | #########1 |  91% \n",
      "mkl-2021.4.0         | 114.9 MB  | #########1 |  92% \n",
      "mkl-2021.4.0         | 114.9 MB  | #########2 |  92% \n",
      "mkl-2021.4.0         | 114.9 MB  | #########2 |  93% \n",
      "mkl-2021.4.0         | 114.9 MB  | #########3 |  93% \n",
      "mkl-2021.4.0         | 114.9 MB  | #########3 |  94% \n",
      "mkl-2021.4.0         | 114.9 MB  | #########4 |  94% \n",
      "mkl-2021.4.0         | 114.9 MB  | #########4 |  95% \n",
      "mkl-2021.4.0         | 114.9 MB  | #########5 |  95% \n",
      "mkl-2021.4.0         | 114.9 MB  | #########5 |  96% \n",
      "mkl-2021.4.0         | 114.9 MB  | #########6 |  96% \n",
      "mkl-2021.4.0         | 114.9 MB  | #########6 |  97% \n",
      "mkl-2021.4.0         | 114.9 MB  | #########7 |  97% \n",
      "mkl-2021.4.0         | 114.9 MB  | #########7 |  98% \n",
      "mkl-2021.4.0         | 114.9 MB  | #########8 |  98% \n",
      "mkl-2021.4.0         | 114.9 MB  | #########8 |  99% \n",
      "mkl-2021.4.0         | 114.9 MB  | #########9 |  99% \n",
      "mkl-2021.4.0         | 114.9 MB  | #########9 | 100% \n",
      "mkl-2021.4.0         | 114.9 MB  | ########## | 100% \n",
      "\n",
      "toolz-0.11.2         | 49 KB     |            |   0% \n",
      "toolz-0.11.2         | 49 KB     | ########## | 100% \n",
      "toolz-0.11.2         | 49 KB     | ########## | 100% \n",
      "\n",
      "mkl-service-2.4.0    | 51 KB     |            |   0% \n",
      "mkl-service-2.4.0    | 51 KB     | ########## | 100% \n",
      "mkl-service-2.4.0    | 51 KB     | ########## | 100% \n",
      "\n",
      "numpy-base-1.23.3    | 5.0 MB    |            |   0% \n",
      "numpy-base-1.23.3    | 5.0 MB    | 6          |   6% \n",
      "numpy-base-1.23.3    | 5.0 MB    | #8         |  18% \n",
      "numpy-base-1.23.3    | 5.0 MB    | ###        |  30% \n",
      "numpy-base-1.23.3    | 5.0 MB    | ####1      |  42% \n",
      "numpy-base-1.23.3    | 5.0 MB    | #####3     |  53% \n",
      "numpy-base-1.23.3    | 5.0 MB    | ######4    |  65% \n",
      "numpy-base-1.23.3    | 5.0 MB    | #######5   |  75% \n",
      "numpy-base-1.23.3    | 5.0 MB    | ########6  |  87% \n",
      "numpy-base-1.23.3    | 5.0 MB    | #########7 |  97% \n",
      "numpy-base-1.23.3    | 5.0 MB    | ########## | 100% \n",
      "\n",
      "certifi-2022.9.24    | 154 KB    |            |   0% \n",
      "certifi-2022.9.24    | 154 KB    | ########## | 100% \n",
      "certifi-2022.9.24    | 154 KB    | ########## | 100% \n",
      "\n",
      "blas-1.0             | 6 KB      |            |   0% \n",
      "blas-1.0             | 6 KB      | ########## | 100% \n",
      "blas-1.0             | 6 KB      | ########## | 100% \n",
      "\n",
      "openssl-1.1.1q       | 4.8 MB    |            |   0% \n",
      "openssl-1.1.1q       | 4.8 MB    | 6          |   6% \n",
      "openssl-1.1.1q       | 4.8 MB    | #7         |  18% \n",
      "openssl-1.1.1q       | 4.8 MB    | ##7        |  28% \n",
      "openssl-1.1.1q       | 4.8 MB    | ###9       |  39% \n",
      "openssl-1.1.1q       | 4.8 MB    | ####9      |  50% \n",
      "openssl-1.1.1q       | 4.8 MB    | ######     |  60% \n",
      "openssl-1.1.1q       | 4.8 MB    | #######    |  71% \n",
      "openssl-1.1.1q       | 4.8 MB    | ########   |  81% \n",
      "openssl-1.1.1q       | 4.8 MB    | #########1 |  92% \n",
      "openssl-1.1.1q       | 4.8 MB    | ########## | 100% \n",
      "\n",
      "conda-22.9.0         | 888 KB    |            |   0% \n",
      "conda-22.9.0         | 888 KB    | ###4       |  34% \n",
      "conda-22.9.0         | 888 KB    | #########1 |  92% \n",
      "conda-22.9.0         | 888 KB    | ########## | 100% \n",
      "\n",
      "ca-certificates-2022 | 123 KB    |            |   0% \n",
      "ca-certificates-2022 | 123 KB    | ########## | 100% \n",
      "ca-certificates-2022 | 123 KB    | ########## | 100% \n",
      "\n",
      "numpy-1.23.3         | 11 KB     |            |   0% \n",
      "numpy-1.23.3         | 11 KB     | ########## | 100% \n",
      "numpy-1.23.3         | 11 KB     | ########## | 100% \n",
      "\n",
      "intel-openmp-2021.4. | 2.2 MB    |            |   0% \n",
      "intel-openmp-2021.4. | 2.2 MB    | #3         |  14% \n",
      "intel-openmp-2021.4. | 2.2 MB    | ###9       |  40% \n",
      "intel-openmp-2021.4. | 2.2 MB    | ######6    |  66% \n",
      "intel-openmp-2021.4. | 2.2 MB    | #########3 |  94% \n",
      "intel-openmp-2021.4. | 2.2 MB    | ########## | 100% \n",
      "\n",
      "mkl_fft-1.3.1        | 139 KB    |            |   0% \n",
      "mkl_fft-1.3.1        | 139 KB    | ########## | 100% \n",
      "mkl_fft-1.3.1        | 139 KB    | ########## | 100% \n",
      "Preparing transaction: ...working... done\n",
      "Verifying transaction: ...working... done\n",
      "Executing transaction: ...working... done\n"
     ]
    }
   ],
   "source": [
    "import sys\n",
    "!conda install --yes --prefix {sys.prefix} numpy"
   ]
  },
  {
   "cell_type": "code",
   "execution_count": 1,
   "id": "e961a4af",
   "metadata": {},
   "outputs": [],
   "source": [
    "import numpy as np"
   ]
  },
  {
   "cell_type": "markdown",
   "id": "a8159efa",
   "metadata": {},
   "source": [
    "**Задание 1**"
   ]
  },
  {
   "cell_type": "code",
   "execution_count": 4,
   "id": "46ec3468",
   "metadata": {},
   "outputs": [
    {
     "name": "stdout",
     "output_type": "stream",
     "text": [
      "[[ 1  6]\n",
      " [ 2  8]\n",
      " [ 3 11]\n",
      " [ 3 10]\n",
      " [ 1  7]]\n"
     ]
    }
   ],
   "source": [
    "a = np.array([[1, 6],\n",
    "              [2, 8],\n",
    "              [3, 11],\n",
    "              [3, 10],\n",
    "              [1, 7]])\n",
    "print(a)"
   ]
  },
  {
   "cell_type": "code",
   "execution_count": 5,
   "id": "a0a9600d",
   "metadata": {},
   "outputs": [
    {
     "name": "stdout",
     "output_type": "stream",
     "text": [
      "[1 2 3 3 1]\n",
      "2.0\n"
     ]
    }
   ],
   "source": [
    "a1 = a[0:, 0]\n",
    "print(a1)\n",
    "mean_a1 = np.mean(a1)\n",
    "print(mean_a1)"
   ]
  },
  {
   "cell_type": "code",
   "execution_count": 6,
   "id": "be9291b7",
   "metadata": {},
   "outputs": [
    {
     "name": "stdout",
     "output_type": "stream",
     "text": [
      "[ 6  8 11 10  7]\n",
      "8.4\n"
     ]
    }
   ],
   "source": [
    "a2 = a[0:, 1]\n",
    "print(a2)\n",
    "mean_a2 = np.mean(a2)\n",
    "print(mean_a2)"
   ]
  },
  {
   "cell_type": "code",
   "execution_count": 7,
   "id": "5a46e16f",
   "metadata": {},
   "outputs": [
    {
     "name": "stdout",
     "output_type": "stream",
     "text": [
      "[2.0, 8.4]\n"
     ]
    }
   ],
   "source": [
    "mean_a = [mean_a1, mean_a2]\n",
    "print(mean_a)"
   ]
  },
  {
   "cell_type": "markdown",
   "id": "ee74031b",
   "metadata": {},
   "source": [
    "**Задание 2**"
   ]
  },
  {
   "cell_type": "code",
   "execution_count": 8,
   "id": "63ad12e4",
   "metadata": {},
   "outputs": [
    {
     "name": "stdout",
     "output_type": "stream",
     "text": [
      "[[-1.  -2.4]\n",
      " [ 0.  -0.4]\n",
      " [ 1.   2.6]\n",
      " [ 1.   1.6]\n",
      " [-1.  -1.4]]\n"
     ]
    }
   ],
   "source": [
    "a_centered = np.subtract(a, mean_a)\n",
    "print(a_centered)"
   ]
  },
  {
   "cell_type": "markdown",
   "id": "6a47b19e",
   "metadata": {},
   "source": [
    "**Задание 3**"
   ]
  },
  {
   "cell_type": "code",
   "execution_count": 9,
   "id": "046b60b5",
   "metadata": {},
   "outputs": [
    {
     "name": "stdout",
     "output_type": "stream",
     "text": [
      "8.0\n",
      "5\n",
      "2.0\n"
     ]
    }
   ],
   "source": [
    "a_centered_sp = np.dot(a_centered[0:, 0], a_centered[0:, 1])\n",
    "print(a_centered_sp)\n",
    "rows, columns = a_centered.shape\n",
    "print(rows)\n",
    "a_centered_sp_divided = np.divide(a_centered_sp, rows - 1)\n",
    "print(a_centered_sp_divided)"
   ]
  },
  {
   "cell_type": "code",
   "execution_count": 10,
   "id": "b0d15ff0",
   "metadata": {},
   "outputs": [
    {
     "data": {
      "text/plain": [
       "array([[ 1,  2,  3,  3,  1],\n",
       "       [ 6,  8, 11, 10,  7]])"
      ]
     },
     "execution_count": 10,
     "metadata": {},
     "output_type": "execute_result"
    }
   ],
   "source": [
    "At = np.transpose(a)\n",
    "At"
   ]
  },
  {
   "cell_type": "code",
   "execution_count": 11,
   "id": "d594dd06",
   "metadata": {},
   "outputs": [
    {
     "data": {
      "text/plain": [
       "array([[1. , 2. ],\n",
       "       [2. , 4.3]])"
      ]
     },
     "execution_count": 11,
     "metadata": {},
     "output_type": "execute_result"
    }
   ],
   "source": [
    "cov = np.cov(At)\n",
    "cov"
   ]
  },
  {
   "cell_type": "markdown",
   "id": "f4e11c62",
   "metadata": {},
   "source": [
    "**Тема “Работа с данными в Pandas”**\n"
   ]
  },
  {
   "cell_type": "markdown",
   "id": "58ec30ac",
   "metadata": {},
   "source": [
    "**Задание 1**"
   ]
  },
  {
   "cell_type": "code",
   "execution_count": 12,
   "id": "8ec92a22",
   "metadata": {},
   "outputs": [
    {
     "name": "stdout",
     "output_type": "stream",
     "text": [
      "Collecting package metadata (current_repodata.json): ...working... done\n",
      "Solving environment: ...working... done\n",
      "\n",
      "## Package Plan ##\n",
      "\n",
      "  environment location: D:\\03_11\\DATA\\Miniconda\n",
      "\n",
      "  added / updated specs:\n",
      "    - pandas\n",
      "\n",
      "\n",
      "The following packages will be downloaded:\n",
      "\n",
      "    package                    |            build\n",
      "    ---------------------------|-----------------\n",
      "    ca-certificates-2022.10.11 |       haa95532_0         125 KB\n",
      "    ------------------------------------------------------------\n",
      "                                           Total:         125 KB\n",
      "\n",
      "The following packages will be UPDATED:\n",
      "\n",
      "  ca-certificates                     2022.07.19-haa95532_0 --> 2022.10.11-haa95532_0 None\n",
      "\n",
      "\n",
      "\n",
      "Downloading and Extracting Packages\n",
      "\n",
      "ca-certificates-2022 | 125 KB    |            |   0% \n",
      "ca-certificates-2022 | 125 KB    | #2         |  13% \n",
      "ca-certificates-2022 | 125 KB    | ########## | 100% \n",
      "ca-certificates-2022 | 125 KB    | ########## | 100% \n",
      "Preparing transaction: ...working... done\n",
      "Verifying transaction: ...working... done\n",
      "Executing transaction: ...working... done\n",
      "Retrieving notices: ...working... done\n"
     ]
    }
   ],
   "source": [
    "import sys\n",
    "!conda install --yes --prefix {sys.prefix} pandas"
   ]
  },
  {
   "cell_type": "code",
   "execution_count": 13,
   "id": "813af0b4",
   "metadata": {},
   "outputs": [],
   "source": [
    "import pandas as pd"
   ]
  },
  {
   "cell_type": "code",
   "execution_count": 14,
   "id": "b974c565",
   "metadata": {},
   "outputs": [
    {
     "name": "stdout",
     "output_type": "stream",
     "text": [
      "   author_id author_name\n",
      "0          1    Тургенев\n",
      "1          2       Чехов\n",
      "2          3  Островский\n"
     ]
    }
   ],
   "source": [
    "authors = pd.DataFrame({'author_id':[1, 2, 3], \n",
    "                        'author_name':['Тургенев', 'Чехов', 'Островский']}, \n",
    "                       columns=['author_id', 'author_name'])\n",
    "print(authors)"
   ]
  },
  {
   "cell_type": "code",
   "execution_count": 15,
   "id": "5c34e41c",
   "metadata": {},
   "outputs": [
    {
     "data": {
      "text/html": [
       "<div>\n",
       "<style scoped>\n",
       "    .dataframe tbody tr th:only-of-type {\n",
       "        vertical-align: middle;\n",
       "    }\n",
       "\n",
       "    .dataframe tbody tr th {\n",
       "        vertical-align: top;\n",
       "    }\n",
       "\n",
       "    .dataframe thead th {\n",
       "        text-align: right;\n",
       "    }\n",
       "</style>\n",
       "<table border=\"1\" class=\"dataframe\">\n",
       "  <thead>\n",
       "    <tr style=\"text-align: right;\">\n",
       "      <th></th>\n",
       "      <th>author_id</th>\n",
       "      <th>author_name</th>\n",
       "    </tr>\n",
       "  </thead>\n",
       "  <tbody>\n",
       "    <tr>\n",
       "      <th>0</th>\n",
       "      <td>1</td>\n",
       "      <td>Тургенев</td>\n",
       "    </tr>\n",
       "    <tr>\n",
       "      <th>1</th>\n",
       "      <td>2</td>\n",
       "      <td>Чехов</td>\n",
       "    </tr>\n",
       "    <tr>\n",
       "      <th>2</th>\n",
       "      <td>3</td>\n",
       "      <td>Островский</td>\n",
       "    </tr>\n",
       "  </tbody>\n",
       "</table>\n",
       "</div>"
      ],
      "text/plain": [
       "   author_id author_name\n",
       "0          1    Тургенев\n",
       "1          2       Чехов\n",
       "2          3  Островский"
      ]
     },
     "execution_count": 15,
     "metadata": {},
     "output_type": "execute_result"
    }
   ],
   "source": [
    "authors"
   ]
  },
  {
   "cell_type": "code",
   "execution_count": null,
   "id": "9d0e5693",
   "metadata": {},
   "outputs": [],
   "source": []
  },
  {
   "cell_type": "code",
   "execution_count": 16,
   "id": "01bfdc86",
   "metadata": {},
   "outputs": [
    {
     "name": "stdout",
     "output_type": "stream",
     "text": [
      "   author_id            book_title  price\n",
      "0          1           Отцы и дети    450\n",
      "1          1                 Рудин    300\n",
      "2          1     Дворянское гнездо    350\n",
      "3          2      Толстый и тонкий    500\n",
      "4          2       Дама с собачкой    450\n",
      "5          3                 Гроза    370\n",
      "6          3  Таланты и поклонники    290\n"
     ]
    }
   ],
   "source": [
    "book = pd.DataFrame({'author_id':[1, 1, 1, 2, 2, 3, 3], \n",
    "                     'book_title':['Отцы и дети', 'Рудин', 'Дворянское гнездо', 'Толстый и тонкий', 'Дама с собачкой', 'Гроза', 'Таланты и поклонники'], \n",
    "                     'price':[450, 300, 350, 500, 450, 370, 290]}, \n",
    "                    columns=['author_id', 'book_title', 'price'])\n",
    "print(book)"
   ]
  },
  {
   "cell_type": "code",
   "execution_count": 17,
   "id": "12ffce13",
   "metadata": {},
   "outputs": [
    {
     "name": "stdout",
     "output_type": "stream",
     "text": [
      "   author_id author_name            book_title  price\n",
      "0          1    Тургенев           Отцы и дети    450\n",
      "1          1    Тургенев                 Рудин    300\n",
      "2          1    Тургенев     Дворянское гнездо    350\n",
      "3          2       Чехов      Толстый и тонкий    500\n",
      "4          2       Чехов       Дама с собачкой    450\n",
      "5          3  Островский                 Гроза    370\n",
      "6          3  Островский  Таланты и поклонники    290\n"
     ]
    }
   ],
   "source": [
    "authors_price = pd.merge(authors, book, on = 'author_id', how = 'outer')\n",
    "print(authors_price)"
   ]
  },
  {
   "cell_type": "code",
   "execution_count": 18,
   "id": "232403d6",
   "metadata": {},
   "outputs": [
    {
     "data": {
      "text/html": [
       "<div>\n",
       "<style scoped>\n",
       "    .dataframe tbody tr th:only-of-type {\n",
       "        vertical-align: middle;\n",
       "    }\n",
       "\n",
       "    .dataframe tbody tr th {\n",
       "        vertical-align: top;\n",
       "    }\n",
       "\n",
       "    .dataframe thead th {\n",
       "        text-align: right;\n",
       "    }\n",
       "</style>\n",
       "<table border=\"1\" class=\"dataframe\">\n",
       "  <thead>\n",
       "    <tr style=\"text-align: right;\">\n",
       "      <th></th>\n",
       "      <th>author_id</th>\n",
       "      <th>author_name</th>\n",
       "      <th>book_title</th>\n",
       "      <th>price</th>\n",
       "    </tr>\n",
       "  </thead>\n",
       "  <tbody>\n",
       "    <tr>\n",
       "      <th>0</th>\n",
       "      <td>1</td>\n",
       "      <td>Тургенев</td>\n",
       "      <td>Отцы и дети</td>\n",
       "      <td>450</td>\n",
       "    </tr>\n",
       "    <tr>\n",
       "      <th>1</th>\n",
       "      <td>1</td>\n",
       "      <td>Тургенев</td>\n",
       "      <td>Рудин</td>\n",
       "      <td>300</td>\n",
       "    </tr>\n",
       "    <tr>\n",
       "      <th>2</th>\n",
       "      <td>1</td>\n",
       "      <td>Тургенев</td>\n",
       "      <td>Дворянское гнездо</td>\n",
       "      <td>350</td>\n",
       "    </tr>\n",
       "    <tr>\n",
       "      <th>3</th>\n",
       "      <td>2</td>\n",
       "      <td>Чехов</td>\n",
       "      <td>Толстый и тонкий</td>\n",
       "      <td>500</td>\n",
       "    </tr>\n",
       "    <tr>\n",
       "      <th>4</th>\n",
       "      <td>2</td>\n",
       "      <td>Чехов</td>\n",
       "      <td>Дама с собачкой</td>\n",
       "      <td>450</td>\n",
       "    </tr>\n",
       "    <tr>\n",
       "      <th>5</th>\n",
       "      <td>3</td>\n",
       "      <td>Островский</td>\n",
       "      <td>Гроза</td>\n",
       "      <td>370</td>\n",
       "    </tr>\n",
       "    <tr>\n",
       "      <th>6</th>\n",
       "      <td>3</td>\n",
       "      <td>Островский</td>\n",
       "      <td>Таланты и поклонники</td>\n",
       "      <td>290</td>\n",
       "    </tr>\n",
       "  </tbody>\n",
       "</table>\n",
       "</div>"
      ],
      "text/plain": [
       "   author_id author_name            book_title  price\n",
       "0          1    Тургенев           Отцы и дети    450\n",
       "1          1    Тургенев                 Рудин    300\n",
       "2          1    Тургенев     Дворянское гнездо    350\n",
       "3          2       Чехов      Толстый и тонкий    500\n",
       "4          2       Чехов       Дама с собачкой    450\n",
       "5          3  Островский                 Гроза    370\n",
       "6          3  Островский  Таланты и поклонники    290"
      ]
     },
     "execution_count": 18,
     "metadata": {},
     "output_type": "execute_result"
    }
   ],
   "source": [
    "authors_price"
   ]
  },
  {
   "cell_type": "markdown",
   "id": "f2285930",
   "metadata": {},
   "source": [
    "**Задание 3***"
   ]
  },
  {
   "cell_type": "code",
   "execution_count": 19,
   "id": "63c79538",
   "metadata": {},
   "outputs": [],
   "source": [
    "authors_price_sorted = authors_price.sort_values(by = 'price', ascending=False)"
   ]
  },
  {
   "cell_type": "code",
   "execution_count": 20,
   "id": "3ffef2ac",
   "metadata": {},
   "outputs": [
    {
     "data": {
      "text/html": [
       "<div>\n",
       "<style scoped>\n",
       "    .dataframe tbody tr th:only-of-type {\n",
       "        vertical-align: middle;\n",
       "    }\n",
       "\n",
       "    .dataframe tbody tr th {\n",
       "        vertical-align: top;\n",
       "    }\n",
       "\n",
       "    .dataframe thead th {\n",
       "        text-align: right;\n",
       "    }\n",
       "</style>\n",
       "<table border=\"1\" class=\"dataframe\">\n",
       "  <thead>\n",
       "    <tr style=\"text-align: right;\">\n",
       "      <th></th>\n",
       "      <th>author_id</th>\n",
       "      <th>author_name</th>\n",
       "      <th>book_title</th>\n",
       "      <th>price</th>\n",
       "    </tr>\n",
       "  </thead>\n",
       "  <tbody>\n",
       "    <tr>\n",
       "      <th>3</th>\n",
       "      <td>2</td>\n",
       "      <td>Чехов</td>\n",
       "      <td>Толстый и тонкий</td>\n",
       "      <td>500</td>\n",
       "    </tr>\n",
       "    <tr>\n",
       "      <th>0</th>\n",
       "      <td>1</td>\n",
       "      <td>Тургенев</td>\n",
       "      <td>Отцы и дети</td>\n",
       "      <td>450</td>\n",
       "    </tr>\n",
       "    <tr>\n",
       "      <th>4</th>\n",
       "      <td>2</td>\n",
       "      <td>Чехов</td>\n",
       "      <td>Дама с собачкой</td>\n",
       "      <td>450</td>\n",
       "    </tr>\n",
       "    <tr>\n",
       "      <th>5</th>\n",
       "      <td>3</td>\n",
       "      <td>Островский</td>\n",
       "      <td>Гроза</td>\n",
       "      <td>370</td>\n",
       "    </tr>\n",
       "    <tr>\n",
       "      <th>2</th>\n",
       "      <td>1</td>\n",
       "      <td>Тургенев</td>\n",
       "      <td>Дворянское гнездо</td>\n",
       "      <td>350</td>\n",
       "    </tr>\n",
       "    <tr>\n",
       "      <th>1</th>\n",
       "      <td>1</td>\n",
       "      <td>Тургенев</td>\n",
       "      <td>Рудин</td>\n",
       "      <td>300</td>\n",
       "    </tr>\n",
       "    <tr>\n",
       "      <th>6</th>\n",
       "      <td>3</td>\n",
       "      <td>Островский</td>\n",
       "      <td>Таланты и поклонники</td>\n",
       "      <td>290</td>\n",
       "    </tr>\n",
       "  </tbody>\n",
       "</table>\n",
       "</div>"
      ],
      "text/plain": [
       "   author_id author_name            book_title  price\n",
       "3          2       Чехов      Толстый и тонкий    500\n",
       "0          1    Тургенев           Отцы и дети    450\n",
       "4          2       Чехов       Дама с собачкой    450\n",
       "5          3  Островский                 Гроза    370\n",
       "2          1    Тургенев     Дворянское гнездо    350\n",
       "1          1    Тургенев                 Рудин    300\n",
       "6          3  Островский  Таланты и поклонники    290"
      ]
     },
     "execution_count": 20,
     "metadata": {},
     "output_type": "execute_result"
    }
   ],
   "source": [
    "authors_price_sorted"
   ]
  },
  {
   "cell_type": "code",
   "execution_count": 21,
   "id": "8ac0c2aa",
   "metadata": {},
   "outputs": [],
   "source": [
    "top5 = authors_price_sorted.head()"
   ]
  },
  {
   "cell_type": "code",
   "execution_count": 22,
   "id": "46ccf101",
   "metadata": {},
   "outputs": [
    {
     "data": {
      "text/html": [
       "<div>\n",
       "<style scoped>\n",
       "    .dataframe tbody tr th:only-of-type {\n",
       "        vertical-align: middle;\n",
       "    }\n",
       "\n",
       "    .dataframe tbody tr th {\n",
       "        vertical-align: top;\n",
       "    }\n",
       "\n",
       "    .dataframe thead th {\n",
       "        text-align: right;\n",
       "    }\n",
       "</style>\n",
       "<table border=\"1\" class=\"dataframe\">\n",
       "  <thead>\n",
       "    <tr style=\"text-align: right;\">\n",
       "      <th></th>\n",
       "      <th>author_id</th>\n",
       "      <th>author_name</th>\n",
       "      <th>book_title</th>\n",
       "      <th>price</th>\n",
       "    </tr>\n",
       "  </thead>\n",
       "  <tbody>\n",
       "    <tr>\n",
       "      <th>3</th>\n",
       "      <td>2</td>\n",
       "      <td>Чехов</td>\n",
       "      <td>Толстый и тонкий</td>\n",
       "      <td>500</td>\n",
       "    </tr>\n",
       "    <tr>\n",
       "      <th>0</th>\n",
       "      <td>1</td>\n",
       "      <td>Тургенев</td>\n",
       "      <td>Отцы и дети</td>\n",
       "      <td>450</td>\n",
       "    </tr>\n",
       "    <tr>\n",
       "      <th>4</th>\n",
       "      <td>2</td>\n",
       "      <td>Чехов</td>\n",
       "      <td>Дама с собачкой</td>\n",
       "      <td>450</td>\n",
       "    </tr>\n",
       "    <tr>\n",
       "      <th>5</th>\n",
       "      <td>3</td>\n",
       "      <td>Островский</td>\n",
       "      <td>Гроза</td>\n",
       "      <td>370</td>\n",
       "    </tr>\n",
       "    <tr>\n",
       "      <th>2</th>\n",
       "      <td>1</td>\n",
       "      <td>Тургенев</td>\n",
       "      <td>Дворянское гнездо</td>\n",
       "      <td>350</td>\n",
       "    </tr>\n",
       "  </tbody>\n",
       "</table>\n",
       "</div>"
      ],
      "text/plain": [
       "   author_id author_name         book_title  price\n",
       "3          2       Чехов   Толстый и тонкий    500\n",
       "0          1    Тургенев        Отцы и дети    450\n",
       "4          2       Чехов    Дама с собачкой    450\n",
       "5          3  Островский              Гроза    370\n",
       "2          1    Тургенев  Дворянское гнездо    350"
      ]
     },
     "execution_count": 22,
     "metadata": {},
     "output_type": "execute_result"
    }
   ],
   "source": [
    "top5"
   ]
  },
  {
   "cell_type": "markdown",
   "id": "8854991b",
   "metadata": {},
   "source": [
    "**Задание 4**"
   ]
  },
  {
   "cell_type": "code",
   "execution_count": 23,
   "id": "ad3682db",
   "metadata": {},
   "outputs": [
    {
     "data": {
      "text/html": [
       "<div>\n",
       "<style scoped>\n",
       "    .dataframe tbody tr th:only-of-type {\n",
       "        vertical-align: middle;\n",
       "    }\n",
       "\n",
       "    .dataframe tbody tr th {\n",
       "        vertical-align: top;\n",
       "    }\n",
       "\n",
       "    .dataframe thead th {\n",
       "        text-align: right;\n",
       "    }\n",
       "</style>\n",
       "<table border=\"1\" class=\"dataframe\">\n",
       "  <thead>\n",
       "    <tr style=\"text-align: right;\">\n",
       "      <th></th>\n",
       "      <th>price</th>\n",
       "    </tr>\n",
       "    <tr>\n",
       "      <th>author_name</th>\n",
       "      <th></th>\n",
       "    </tr>\n",
       "  </thead>\n",
       "  <tbody>\n",
       "    <tr>\n",
       "      <th>Островский</th>\n",
       "      <td>370</td>\n",
       "    </tr>\n",
       "    <tr>\n",
       "      <th>Тургенев</th>\n",
       "      <td>450</td>\n",
       "    </tr>\n",
       "    <tr>\n",
       "      <th>Чехов</th>\n",
       "      <td>500</td>\n",
       "    </tr>\n",
       "  </tbody>\n",
       "</table>\n",
       "</div>"
      ],
      "text/plain": [
       "             price\n",
       "author_name       \n",
       "Островский     370\n",
       "Тургенев       450\n",
       "Чехов          500"
      ]
     },
     "execution_count": 23,
     "metadata": {},
     "output_type": "execute_result"
    }
   ],
   "source": [
    "price_agg = authors_price.groupby('author_name').agg({'price':'max'})\n",
    "price_agg\n"
   ]
  },
  {
   "cell_type": "code",
   "execution_count": 24,
   "id": "36f0b8d6",
   "metadata": {},
   "outputs": [
    {
     "data": {
      "text/html": [
       "<div>\n",
       "<style scoped>\n",
       "    .dataframe tbody tr th:only-of-type {\n",
       "        vertical-align: middle;\n",
       "    }\n",
       "\n",
       "    .dataframe tbody tr th {\n",
       "        vertical-align: top;\n",
       "    }\n",
       "\n",
       "    .dataframe thead th {\n",
       "        text-align: right;\n",
       "    }\n",
       "</style>\n",
       "<table border=\"1\" class=\"dataframe\">\n",
       "  <thead>\n",
       "    <tr style=\"text-align: right;\">\n",
       "      <th></th>\n",
       "      <th>author_name</th>\n",
       "      <th>max_price</th>\n",
       "    </tr>\n",
       "  </thead>\n",
       "  <tbody>\n",
       "    <tr>\n",
       "      <th>0</th>\n",
       "      <td>Островский</td>\n",
       "      <td>370</td>\n",
       "    </tr>\n",
       "    <tr>\n",
       "      <th>1</th>\n",
       "      <td>Тургенев</td>\n",
       "      <td>450</td>\n",
       "    </tr>\n",
       "    <tr>\n",
       "      <th>2</th>\n",
       "      <td>Чехов</td>\n",
       "      <td>500</td>\n",
       "    </tr>\n",
       "  </tbody>\n",
       "</table>\n",
       "</div>"
      ],
      "text/plain": [
       "  author_name  max_price\n",
       "0  Островский        370\n",
       "1    Тургенев        450\n",
       "2       Чехов        500"
      ]
     },
     "execution_count": 24,
     "metadata": {},
     "output_type": "execute_result"
    }
   ],
   "source": [
    "price_agg = price_agg.reset_index()\n",
    "price_agg = price_agg.rename(columns={'price':'max_price'})\n",
    "price_agg"
   ]
  },
  {
   "cell_type": "code",
   "execution_count": 25,
   "id": "373a5810",
   "metadata": {},
   "outputs": [
    {
     "data": {
      "text/html": [
       "<div>\n",
       "<style scoped>\n",
       "    .dataframe tbody tr th:only-of-type {\n",
       "        vertical-align: middle;\n",
       "    }\n",
       "\n",
       "    .dataframe tbody tr th {\n",
       "        vertical-align: top;\n",
       "    }\n",
       "\n",
       "    .dataframe thead th {\n",
       "        text-align: right;\n",
       "    }\n",
       "</style>\n",
       "<table border=\"1\" class=\"dataframe\">\n",
       "  <thead>\n",
       "    <tr style=\"text-align: right;\">\n",
       "      <th></th>\n",
       "      <th>price</th>\n",
       "    </tr>\n",
       "    <tr>\n",
       "      <th>author_name</th>\n",
       "      <th></th>\n",
       "    </tr>\n",
       "  </thead>\n",
       "  <tbody>\n",
       "    <tr>\n",
       "      <th>Островский</th>\n",
       "      <td>290</td>\n",
       "    </tr>\n",
       "    <tr>\n",
       "      <th>Тургенев</th>\n",
       "      <td>300</td>\n",
       "    </tr>\n",
       "    <tr>\n",
       "      <th>Чехов</th>\n",
       "      <td>450</td>\n",
       "    </tr>\n",
       "  </tbody>\n",
       "</table>\n",
       "</div>"
      ],
      "text/plain": [
       "             price\n",
       "author_name       \n",
       "Островский     290\n",
       "Тургенев       300\n",
       "Чехов          450"
      ]
     },
     "execution_count": 25,
     "metadata": {},
     "output_type": "execute_result"
    }
   ],
   "source": [
    "price_agg1 = authors_price.groupby('author_name').agg({'price':'min'})\n",
    "price_agg1"
   ]
  },
  {
   "cell_type": "code",
   "execution_count": 26,
   "id": "e821fde6",
   "metadata": {},
   "outputs": [
    {
     "data": {
      "text/html": [
       "<div>\n",
       "<style scoped>\n",
       "    .dataframe tbody tr th:only-of-type {\n",
       "        vertical-align: middle;\n",
       "    }\n",
       "\n",
       "    .dataframe tbody tr th {\n",
       "        vertical-align: top;\n",
       "    }\n",
       "\n",
       "    .dataframe thead th {\n",
       "        text-align: right;\n",
       "    }\n",
       "</style>\n",
       "<table border=\"1\" class=\"dataframe\">\n",
       "  <thead>\n",
       "    <tr style=\"text-align: right;\">\n",
       "      <th></th>\n",
       "      <th>author_name</th>\n",
       "      <th>min_price</th>\n",
       "    </tr>\n",
       "  </thead>\n",
       "  <tbody>\n",
       "    <tr>\n",
       "      <th>0</th>\n",
       "      <td>Островский</td>\n",
       "      <td>290</td>\n",
       "    </tr>\n",
       "    <tr>\n",
       "      <th>1</th>\n",
       "      <td>Тургенев</td>\n",
       "      <td>300</td>\n",
       "    </tr>\n",
       "    <tr>\n",
       "      <th>2</th>\n",
       "      <td>Чехов</td>\n",
       "      <td>450</td>\n",
       "    </tr>\n",
       "  </tbody>\n",
       "</table>\n",
       "</div>"
      ],
      "text/plain": [
       "  author_name  min_price\n",
       "0  Островский        290\n",
       "1    Тургенев        300\n",
       "2       Чехов        450"
      ]
     },
     "execution_count": 26,
     "metadata": {},
     "output_type": "execute_result"
    }
   ],
   "source": [
    "price_agg1 = price_agg1.reset_index()\n",
    "price_agg1 = price_agg1.rename(columns={'price':'min_price'})\n",
    "price_agg1"
   ]
  },
  {
   "cell_type": "code",
   "execution_count": 27,
   "id": "9eb45e21",
   "metadata": {},
   "outputs": [
    {
     "name": "stdout",
     "output_type": "stream",
     "text": [
      "  author_name  max_price  min_price\n",
      "0  Островский        370        290\n",
      "1    Тургенев        450        300\n",
      "2       Чехов        500        450\n"
     ]
    }
   ],
   "source": [
    "authors_stat = pd.merge(price_agg, price_agg1, on = 'author_name', how = 'outer')\n",
    "print(authors_stat)"
   ]
  },
  {
   "cell_type": "code",
   "execution_count": 28,
   "id": "aaad88c3",
   "metadata": {},
   "outputs": [
    {
     "data": {
      "text/html": [
       "<div>\n",
       "<style scoped>\n",
       "    .dataframe tbody tr th:only-of-type {\n",
       "        vertical-align: middle;\n",
       "    }\n",
       "\n",
       "    .dataframe tbody tr th {\n",
       "        vertical-align: top;\n",
       "    }\n",
       "\n",
       "    .dataframe thead th {\n",
       "        text-align: right;\n",
       "    }\n",
       "</style>\n",
       "<table border=\"1\" class=\"dataframe\">\n",
       "  <thead>\n",
       "    <tr style=\"text-align: right;\">\n",
       "      <th></th>\n",
       "      <th>author_name</th>\n",
       "      <th>max_price</th>\n",
       "      <th>min_price</th>\n",
       "    </tr>\n",
       "  </thead>\n",
       "  <tbody>\n",
       "    <tr>\n",
       "      <th>0</th>\n",
       "      <td>Островский</td>\n",
       "      <td>370</td>\n",
       "      <td>290</td>\n",
       "    </tr>\n",
       "    <tr>\n",
       "      <th>1</th>\n",
       "      <td>Тургенев</td>\n",
       "      <td>450</td>\n",
       "      <td>300</td>\n",
       "    </tr>\n",
       "    <tr>\n",
       "      <th>2</th>\n",
       "      <td>Чехов</td>\n",
       "      <td>500</td>\n",
       "      <td>450</td>\n",
       "    </tr>\n",
       "  </tbody>\n",
       "</table>\n",
       "</div>"
      ],
      "text/plain": [
       "  author_name  max_price  min_price\n",
       "0  Островский        370        290\n",
       "1    Тургенев        450        300\n",
       "2       Чехов        500        450"
      ]
     },
     "execution_count": 28,
     "metadata": {},
     "output_type": "execute_result"
    }
   ],
   "source": [
    "authors_stat"
   ]
  },
  {
   "cell_type": "code",
   "execution_count": 29,
   "id": "41e422ea",
   "metadata": {},
   "outputs": [],
   "source": [
    "authors_stat['mean_price'] = (authors_stat['max_price'] + authors_stat['min_price']) // 2"
   ]
  },
  {
   "cell_type": "code",
   "execution_count": 30,
   "id": "5d6d9e4a",
   "metadata": {},
   "outputs": [
    {
     "data": {
      "text/html": [
       "<div>\n",
       "<style scoped>\n",
       "    .dataframe tbody tr th:only-of-type {\n",
       "        vertical-align: middle;\n",
       "    }\n",
       "\n",
       "    .dataframe tbody tr th {\n",
       "        vertical-align: top;\n",
       "    }\n",
       "\n",
       "    .dataframe thead th {\n",
       "        text-align: right;\n",
       "    }\n",
       "</style>\n",
       "<table border=\"1\" class=\"dataframe\">\n",
       "  <thead>\n",
       "    <tr style=\"text-align: right;\">\n",
       "      <th></th>\n",
       "      <th>author_name</th>\n",
       "      <th>max_price</th>\n",
       "      <th>min_price</th>\n",
       "      <th>mean_price</th>\n",
       "    </tr>\n",
       "  </thead>\n",
       "  <tbody>\n",
       "    <tr>\n",
       "      <th>0</th>\n",
       "      <td>Островский</td>\n",
       "      <td>370</td>\n",
       "      <td>290</td>\n",
       "      <td>330</td>\n",
       "    </tr>\n",
       "    <tr>\n",
       "      <th>1</th>\n",
       "      <td>Тургенев</td>\n",
       "      <td>450</td>\n",
       "      <td>300</td>\n",
       "      <td>375</td>\n",
       "    </tr>\n",
       "    <tr>\n",
       "      <th>2</th>\n",
       "      <td>Чехов</td>\n",
       "      <td>500</td>\n",
       "      <td>450</td>\n",
       "      <td>475</td>\n",
       "    </tr>\n",
       "  </tbody>\n",
       "</table>\n",
       "</div>"
      ],
      "text/plain": [
       "  author_name  max_price  min_price  mean_price\n",
       "0  Островский        370        290         330\n",
       "1    Тургенев        450        300         375\n",
       "2       Чехов        500        450         475"
      ]
     },
     "execution_count": 30,
     "metadata": {},
     "output_type": "execute_result"
    }
   ],
   "source": [
    "authors_stat"
   ]
  },
  {
   "cell_type": "code",
   "execution_count": 31,
   "id": "36c5983a",
   "metadata": {},
   "outputs": [
    {
     "data": {
      "text/html": [
       "<div>\n",
       "<style scoped>\n",
       "    .dataframe tbody tr th:only-of-type {\n",
       "        vertical-align: middle;\n",
       "    }\n",
       "\n",
       "    .dataframe tbody tr th {\n",
       "        vertical-align: top;\n",
       "    }\n",
       "\n",
       "    .dataframe thead th {\n",
       "        text-align: right;\n",
       "    }\n",
       "</style>\n",
       "<table border=\"1\" class=\"dataframe\">\n",
       "  <thead>\n",
       "    <tr style=\"text-align: right;\">\n",
       "      <th></th>\n",
       "      <th>author_id</th>\n",
       "      <th>author_name</th>\n",
       "      <th>book_title</th>\n",
       "      <th>price</th>\n",
       "      <th>cover</th>\n",
       "    </tr>\n",
       "  </thead>\n",
       "  <tbody>\n",
       "    <tr>\n",
       "      <th>0</th>\n",
       "      <td>1</td>\n",
       "      <td>Тургенев</td>\n",
       "      <td>Отцы и дети</td>\n",
       "      <td>450</td>\n",
       "      <td>твердая</td>\n",
       "    </tr>\n",
       "    <tr>\n",
       "      <th>1</th>\n",
       "      <td>1</td>\n",
       "      <td>Тургенев</td>\n",
       "      <td>Рудин</td>\n",
       "      <td>300</td>\n",
       "      <td>мягкая</td>\n",
       "    </tr>\n",
       "    <tr>\n",
       "      <th>2</th>\n",
       "      <td>1</td>\n",
       "      <td>Тургенев</td>\n",
       "      <td>Дворянское гнездо</td>\n",
       "      <td>350</td>\n",
       "      <td>мягкая</td>\n",
       "    </tr>\n",
       "    <tr>\n",
       "      <th>3</th>\n",
       "      <td>2</td>\n",
       "      <td>Чехов</td>\n",
       "      <td>Толстый и тонкий</td>\n",
       "      <td>500</td>\n",
       "      <td>твердая</td>\n",
       "    </tr>\n",
       "    <tr>\n",
       "      <th>4</th>\n",
       "      <td>2</td>\n",
       "      <td>Чехов</td>\n",
       "      <td>Дама с собачкой</td>\n",
       "      <td>450</td>\n",
       "      <td>твердая</td>\n",
       "    </tr>\n",
       "    <tr>\n",
       "      <th>5</th>\n",
       "      <td>3</td>\n",
       "      <td>Островский</td>\n",
       "      <td>Гроза</td>\n",
       "      <td>370</td>\n",
       "      <td>мягкая</td>\n",
       "    </tr>\n",
       "    <tr>\n",
       "      <th>6</th>\n",
       "      <td>3</td>\n",
       "      <td>Островский</td>\n",
       "      <td>Таланты и поклонники</td>\n",
       "      <td>290</td>\n",
       "      <td>мягкая</td>\n",
       "    </tr>\n",
       "  </tbody>\n",
       "</table>\n",
       "</div>"
      ],
      "text/plain": [
       "   author_id author_name            book_title  price    cover\n",
       "0          1    Тургенев           Отцы и дети    450  твердая\n",
       "1          1    Тургенев                 Рудин    300   мягкая\n",
       "2          1    Тургенев     Дворянское гнездо    350   мягкая\n",
       "3          2       Чехов      Толстый и тонкий    500  твердая\n",
       "4          2       Чехов       Дама с собачкой    450  твердая\n",
       "5          3  Островский                 Гроза    370   мягкая\n",
       "6          3  Островский  Таланты и поклонники    290   мягкая"
      ]
     },
     "execution_count": 31,
     "metadata": {},
     "output_type": "execute_result"
    }
   ],
   "source": [
    "authors_price ['cover'] = ['твердая', 'мягкая', 'мягкая', 'твердая', 'твердая', 'мягкая', 'мягкая']\n",
    "authors_price"
   ]
  },
  {
   "cell_type": "code",
   "execution_count": 33,
   "id": "5bdfaf9d",
   "metadata": {},
   "outputs": [],
   "source": [
    "?pd.pivot_table"
   ]
  },
  {
   "cell_type": "code",
   "execution_count": 42,
   "id": "a24d8575",
   "metadata": {},
   "outputs": [],
   "source": [
    "book_info = pd.pivot_table(authors_price,\n",
    "              index=[\"author_name\"],\n",
    "              values=[\"price\"],\n",
    "               columns=[\"cover\"],\n",
    "               aggfunc=[np.sum],\n",
    "              fill_value=0)"
   ]
  },
  {
   "cell_type": "code",
   "execution_count": 43,
   "id": "201fe4cf",
   "metadata": {},
   "outputs": [
    {
     "data": {
      "text/html": [
       "<div>\n",
       "<style scoped>\n",
       "    .dataframe tbody tr th:only-of-type {\n",
       "        vertical-align: middle;\n",
       "    }\n",
       "\n",
       "    .dataframe tbody tr th {\n",
       "        vertical-align: top;\n",
       "    }\n",
       "\n",
       "    .dataframe thead tr th {\n",
       "        text-align: left;\n",
       "    }\n",
       "\n",
       "    .dataframe thead tr:last-of-type th {\n",
       "        text-align: right;\n",
       "    }\n",
       "</style>\n",
       "<table border=\"1\" class=\"dataframe\">\n",
       "  <thead>\n",
       "    <tr>\n",
       "      <th></th>\n",
       "      <th colspan=\"2\" halign=\"left\">sum</th>\n",
       "    </tr>\n",
       "    <tr>\n",
       "      <th></th>\n",
       "      <th colspan=\"2\" halign=\"left\">price</th>\n",
       "    </tr>\n",
       "    <tr>\n",
       "      <th>cover</th>\n",
       "      <th>мягкая</th>\n",
       "      <th>твердая</th>\n",
       "    </tr>\n",
       "    <tr>\n",
       "      <th>author_name</th>\n",
       "      <th></th>\n",
       "      <th></th>\n",
       "    </tr>\n",
       "  </thead>\n",
       "  <tbody>\n",
       "    <tr>\n",
       "      <th>Островский</th>\n",
       "      <td>660</td>\n",
       "      <td>0</td>\n",
       "    </tr>\n",
       "    <tr>\n",
       "      <th>Тургенев</th>\n",
       "      <td>650</td>\n",
       "      <td>450</td>\n",
       "    </tr>\n",
       "    <tr>\n",
       "      <th>Чехов</th>\n",
       "      <td>0</td>\n",
       "      <td>950</td>\n",
       "    </tr>\n",
       "  </tbody>\n",
       "</table>\n",
       "</div>"
      ],
      "text/plain": [
       "               sum        \n",
       "             price        \n",
       "cover       мягкая твердая\n",
       "author_name               \n",
       "Островский     660       0\n",
       "Тургенев       650     450\n",
       "Чехов            0     950"
      ]
     },
     "execution_count": 43,
     "metadata": {},
     "output_type": "execute_result"
    }
   ],
   "source": [
    "book_info"
   ]
  },
  {
   "cell_type": "code",
   "execution_count": 45,
   "id": "6462c680",
   "metadata": {},
   "outputs": [],
   "source": [
    "book_info.to_pickle('book_info.pkl')"
   ]
  },
  {
   "cell_type": "code",
   "execution_count": 46,
   "id": "e493f5c8",
   "metadata": {},
   "outputs": [],
   "source": [
    "book_info2=pd.read_pickle('book_info.pkl')"
   ]
  },
  {
   "cell_type": "code",
   "execution_count": 47,
   "id": "8f4b8bd3",
   "metadata": {},
   "outputs": [
    {
     "data": {
      "text/html": [
       "<div>\n",
       "<style scoped>\n",
       "    .dataframe tbody tr th:only-of-type {\n",
       "        vertical-align: middle;\n",
       "    }\n",
       "\n",
       "    .dataframe tbody tr th {\n",
       "        vertical-align: top;\n",
       "    }\n",
       "\n",
       "    .dataframe thead tr th {\n",
       "        text-align: left;\n",
       "    }\n",
       "\n",
       "    .dataframe thead tr:last-of-type th {\n",
       "        text-align: right;\n",
       "    }\n",
       "</style>\n",
       "<table border=\"1\" class=\"dataframe\">\n",
       "  <thead>\n",
       "    <tr>\n",
       "      <th></th>\n",
       "      <th colspan=\"2\" halign=\"left\">sum</th>\n",
       "    </tr>\n",
       "    <tr>\n",
       "      <th></th>\n",
       "      <th colspan=\"2\" halign=\"left\">price</th>\n",
       "    </tr>\n",
       "    <tr>\n",
       "      <th>cover</th>\n",
       "      <th>мягкая</th>\n",
       "      <th>твердая</th>\n",
       "    </tr>\n",
       "    <tr>\n",
       "      <th>author_name</th>\n",
       "      <th></th>\n",
       "      <th></th>\n",
       "    </tr>\n",
       "  </thead>\n",
       "  <tbody>\n",
       "    <tr>\n",
       "      <th>Островский</th>\n",
       "      <td>660</td>\n",
       "      <td>0</td>\n",
       "    </tr>\n",
       "    <tr>\n",
       "      <th>Тургенев</th>\n",
       "      <td>650</td>\n",
       "      <td>450</td>\n",
       "    </tr>\n",
       "    <tr>\n",
       "      <th>Чехов</th>\n",
       "      <td>0</td>\n",
       "      <td>950</td>\n",
       "    </tr>\n",
       "  </tbody>\n",
       "</table>\n",
       "</div>"
      ],
      "text/plain": [
       "               sum        \n",
       "             price        \n",
       "cover       мягкая твердая\n",
       "author_name               \n",
       "Островский     660       0\n",
       "Тургенев       650     450\n",
       "Чехов            0     950"
      ]
     },
     "execution_count": 47,
     "metadata": {},
     "output_type": "execute_result"
    }
   ],
   "source": [
    "book_info2"
   ]
  },
  {
   "cell_type": "code",
   "execution_count": null,
   "id": "24d1e0dd",
   "metadata": {},
   "outputs": [],
   "source": []
  }
 ],
 "metadata": {
  "kernelspec": {
   "display_name": "Python 3 (ipykernel)",
   "language": "python",
   "name": "python3"
  },
  "language_info": {
   "codemirror_mode": {
    "name": "ipython",
    "version": 3
   },
   "file_extension": ".py",
   "mimetype": "text/x-python",
   "name": "python",
   "nbconvert_exporter": "python",
   "pygments_lexer": "ipython3",
   "version": "3.9.5"
  }
 },
 "nbformat": 4,
 "nbformat_minor": 5
}
